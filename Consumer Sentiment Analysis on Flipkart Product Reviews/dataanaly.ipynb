{
 "cells": [
  {
   "cell_type": "code",
   "execution_count": 1,
   "metadata": {},
   "outputs": [
    {
     "name": "stdout",
     "output_type": "stream",
     "text": []
    }
   ],
   "source": [
    "import pandas as pd\n",
    "import matplotlib.pyplot as plt\n",
    "import seaborn as sns\n",
    "\n",
    "# 加载数据集\n",
    "data = pd.read_csv('Dataset-SA.csv')\n",
    "\n",
    "# 数据清洗：过滤评分和空评论\n",
    "data = data.dropna(subset=['Review'])  # 删除Review为空的行\n",
    "data = data.dropna(subset=['Summary'])  # 删除Summary为空的行\n",
    "data['Rate'] = pd.to_numeric(data['Rate'], errors='coerce')  # 将Rate转换为数值\n",
    "data = data[data['Rate'].isin([1, 2, 3, 4, 5])]  # 只保留1-5的评分\n",
    "\n",
    "# 重置索引\n",
    "data = data.reset_index(drop=True)\n",
    "\n",
    "print(\"数据清洗后的样本数量:\", len(data))\n",
    "print(\"\\n评分分布:\")\n",
    "print(data['Rate'].value_counts().sort_index())"
   ]
  },
  {
   "cell_type": "code",
   "execution_count": 2,
   "metadata": {},
   "outputs": [
    {
     "name": "stdout",
     "output_type": "stream",
     "text": []
    }
   ],
   "source": [
    "# 显示数据集的前几行\n",
    "print(data.head())"
   ]
  },
  {
   "cell_type": "code",
   "execution_count": 3,
   "metadata": {},
   "outputs": [
    {
     "name": "stdout",
     "output_type": "stream",
     "text": []
    }
   ],
   "source": [
    "# 显示数据集的列名\n",
    "print(data.columns)"
   ]
  },
  {
   "cell_type": "code",
   "execution_count": 4,
   "metadata": {},
   "outputs": [
    {
     "name": "stdout",
     "output_type": "stream",
     "text": []
    }
   ],
   "source": [
    "# 数据集基本信息\n",
    "print(data.info())"
   ]
  },
  {
   "cell_type": "code",
   "execution_count": 5,
   "metadata": {},
   "outputs": [
    {
     "name": "stdout",
     "output_type": "stream",
     "text": []
    }
   ],
   "source": [
    "# 描述性统计\n",
    "print(data.describe())"
   ]
  },
  {
   "cell_type": "code",
   "execution_count": 6,
   "metadata": {},
   "outputs": [
    {
     "name": "stdout",
     "output_type": "stream",
     "text": []
    }
   ],
   "source": [
    "# 显示列名和数据类型\n",
    "print(data.dtypes)"
   ]
  },
  {
   "cell_type": "code",
   "execution_count": 7,
   "metadata": {},
   "outputs": [
    {
     "name": "stdout",
     "output_type": "stream",
     "text": []
    }
   ],
   "source": [
    "# 检查是否有空值\n",
    "print(data.isnull().sum())\n"
   ]
  },
  {
   "cell_type": "code",
   "execution_count": 8,
   "metadata": {},
   "outputs": [
    {
     "name": "stdout",
     "output_type": "stream",
     "text": []
    }
   ],
   "source": [
    "# 过滤评分数据，只保留1-5的评分\n",
    "data['Rate'] = pd.to_numeric(data['Rate'], errors='coerce')  # 转换为数值类型\n",
    "data = data[data['Rate'].between(1, 5)]  # 只保留1-5之间的评分\n",
    "\n",
    "# 创建评分饼图\n",
    "plt.figure(figsize=(12, 5))\n",
    "\n",
    "# 评分饼图\n",
    "plt.subplot(1, 2, 1)\n",
    "rating_counts = data['Rate'].value_counts().sort_index()  # 按评分值排序\n",
    "plt.pie(rating_counts.values, \n",
    "        labels=rating_counts.index,\n",
    "        autopct='%1.1f%%',\n",
    "        colors=sns.color_palette(\"husl\", n_colors=len(rating_counts)))\n",
    "plt.title('Rating Distribution (1-5)')\n",
    "\n",
    "# 情感饼图\n",
    "plt.subplot(1, 2, 2)\n",
    "sentiment_counts = data['Sentiment'].value_counts()\n",
    "plt.pie(sentiment_counts.values, \n",
    "        labels=sentiment_counts.index,\n",
    "        autopct='%1.1f%%',\n",
    "        colors=sns.color_palette(\"Set3\", n_colors=len(sentiment_counts)))\n",
    "plt.title('Sentiment Distribution')\n",
    "\n",
    "plt.tight_layout()\n",
    "plt.show()"
   ]
  },
  {
   "cell_type": "code",
   "execution_count": 9,
   "metadata": {},
   "outputs": [
    {
     "name": "stdout",
     "output_type": "stream",
     "text": []
    }
   ],
   "source": [
    "# 添加评论长度列并过滤短评论\n",
    "data['review_word_count'] = data['Summary'].str.split().str.len()  # 计算每条评论的词数\n",
    "data_filtered = data[data['review_word_count'] >= 10]  # 只保留至少10个词的评论\n",
    "\n",
    "# 创建一个包含所有情感类型的均衡样本\n",
    "sample_data = []\n",
    "for sentiment in ['neutral', 'negative', 'positive']:\n",
    "    # 对每种情感获取不同评分的样本\n",
    "    sentiment_data = data_filtered[data_filtered['Sentiment'] == sentiment]\n",
    "    # 按评论长度排序并选择前4条\n",
    "    sample = sentiment_data.nlargest(4, 'review_word_count')\n",
    "    sample_data.append(sample)\n",
    "\n",
    "# 合并样本并随机打乱\n",
    "final_sample = pd.concat(sample_data).sample(frac=1).reset_index(drop=True)\n",
    "\n",
    "# 显示样本数据的前10行，包含产品信息\n",
    "pd.set_option('display.max_colwidth', 200)  # 增加列宽以显示更长的评论\n",
    "display(final_sample[['Sentiment', 'Rate', 'product_name', 'product_price', 'Review', 'Summary','review_word_count']].head(10).style\n",
    "        .set_properties(**{'text-align': 'left'})\n",
    "        .set_table_styles([\n",
    "            {'selector': 'th', 'props': [('text-align', 'left'), ('background-color', '#f2f2f2')]},\n",
    "            {'selector': 'td', 'props': [('padding', '8px')]}\n",
    "        ]))"
   ]
  },
  {
   "cell_type": "code",
   "execution_count": 10,
   "metadata": {},
   "outputs": [
    {
     "name": "stdout",
     "output_type": "stream",
     "text": []
    },
    {
     "name": "stdout",
     "output_type": "stream",
     "text": []
    }
   ],
   "source": [
    "# 处理评论长度分析\n",
    "# 过滤掉空评论并计算长度\n",
    "data = data.dropna(subset=['Summary'])\n",
    "data['review_length'] = data['Summary'].str.len()\n",
    "data['review_words'] = data['Summary'].str.split().str.len()\n",
    "\n",
    "# 创建子图\n",
    "plt.figure(figsize=(15, 10))\n",
    "\n",
    "# 1. 评论长度分布\n",
    "plt.subplot(2, 2, 1)\n",
    "sns.histplot(data=data, x='review_length', bins=50)\n",
    "plt.title('Distribution of Summary Length (Characters)')\n",
    "plt.xlabel('Length in Characters')\n",
    "plt.ylabel('Count')\n",
    "\n",
    "# 2. 评论词数分布\n",
    "plt.subplot(2, 2, 2)\n",
    "sns.histplot(data=data, x='review_words', bins=50)\n",
    "plt.title('Distribution of Summary Length (Words)')\n",
    "plt.xlabel('Number of Words')\n",
    "plt.ylabel('Count')\n",
    "\n",
    "# 3. 评分与评论长度的关系\n",
    "plt.subplot(2, 2, 3)\n",
    "sns.boxplot(data=data, x='Rate', y='review_words')\n",
    "plt.title('Summary Length by Rating')\n",
    "plt.xlabel('Rating')\n",
    "plt.ylabel('Number of Words')\n",
    "\n",
    "# 4. 情感与评论长度的关系\n",
    "plt.subplot(2, 2, 4)\n",
    "sns.boxplot(data=data, x='Sentiment', y='review_words')\n",
    "plt.title('Summary Length by Sentiment')\n",
    "plt.xlabel('Sentiment')\n",
    "plt.ylabel('Number of Words')\n",
    "\n",
    "plt.tight_layout()\n",
    "plt.show()\n",
    "\n",
    "# 显示一些统计信息\n",
    "print(\"\\n评论长度统计信息:\")\n",
    "print(data[['review_length', 'review_words']].describe())\n",
    "\n",
    "print(\"\\n各评分的平均评论长度:\")\n",
    "print(data.groupby('Rate')['review_words'].mean().round(2))\n",
    "\n",
    "print(\"\\n各情感类别的平均评论长度:\")\n",
    "print(data.groupby('Sentiment')['review_words'].mean().round(2))"
   ]
  },
  {
   "cell_type": "code",
   "execution_count": 11,
   "metadata": {},
   "outputs": [],
   "source": [
    "# 过滤出合适长度的评论（10词到95%分位数）\n",
    "data['word_count'] = data['Summary'].str.split().str.len()\n",
    "min_words = 10\n",
    "max_words = data['word_count'].quantile(0.95)\n",
    "filtered_data = data[(data['word_count'] >= min_words) & (data['word_count'] <= max_words)]\n",
    "\n",
    "# 对每个情感类别进行平衡采样\n",
    "min_samples = filtered_data['Sentiment'].value_counts().min()"
   ]
  },
  {
   "cell_type": "code",
   "execution_count": 12,
   "metadata": {},
   "outputs": [
    {
     "name": "stdout",
     "output_type": "stream",
     "text": []
    },
    {
     "name": "stdout",
     "output_type": "stream",
     "text": []
    },
    {
     "name": "stdout",
     "output_type": "stream",
     "text": []
    }
   ],
   "source": [
    "# 过滤出合适长度的评论（10词到95%分位数）\n",
    "data['word_count'] = data['Summary'].str.split().str.len()\n",
    "min_words = 10\n",
    "max_words = data['word_count'].quantile(0.95)\n",
    "filtered_data = data[(data['word_count'] >= min_words) & (data['word_count'] <= max_words)]\n",
    "\n",
    "# 对每个情感类别进行平衡采样\n",
    "min_samples = filtered_data['Sentiment'].value_counts().min()\n",
    "balanced_data = filtered_data.groupby('Sentiment').apply(lambda x: x.sample(min_samples, random_state=42)).reset_index(drop=True)\n",
    "\n",
    "# 可视化平衡后的数据分布\n",
    "plt.figure(figsize=(15, 5))\n",
    "\n",
    "# 情感分布\n",
    "plt.subplot(1, 3, 1)\n",
    "sns.countplot(data=balanced_data, x='Sentiment')\n",
    "plt.title('Balanced Sentiment Distribution')\n",
    "plt.xticks(rotation=45)\n",
    "\n",
    "# 评论长度箱线图\n",
    "plt.subplot(1, 3, 2)\n",
    "sns.boxplot(data=balanced_data, x='Sentiment', y='word_count')\n",
    "plt.title('Summary Length by Sentiment (Balanced)')\n",
    "plt.xticks(rotation=45)\n",
    "\n",
    "# 评论长度分布\n",
    "plt.subplot(1, 3, 3)\n",
    "sns.histplot(data=balanced_data, x='word_count', hue='Sentiment', multiple='stack')\n",
    "plt.title('Summary Length Distribution (Balanced)')\n",
    "plt.xlabel('Number of Words')\n",
    "\n",
    "plt.tight_layout()\n",
    "plt.show()\n",
    "\n",
    "# 打印统计信息\n",
    "print('\\n重采样后的统计信息:')\n",
    "print(f'总样本数: {len(balanced_data)}')\n",
    "print('\\n情感分布:')\n",
    "print(balanced_data['Sentiment'].value_counts())\n",
    "print('\\n评论长度统计（按情感分类）:')\n",
    "print(balanced_data.groupby('Sentiment')['word_count'].describe())"
   ]
  },
  {
   "cell_type": "code",
   "execution_count": 14,
   "metadata": {},
   "outputs": [
    {
     "name": "stdout",
     "output_type": "stream",
     "text": []
    }
   ],
   "source": [
    "final_columns = ['Summary', 'Sentiment','Rate']\n",
    "df_filtered = balanced_data[final_columns]\n",
    "\n",
    "# 保存处理后的数据\n",
    "df_filtered.to_csv('filtered_reviews.csv', index=False)\n",
    "\n",
    "print(\"数据集大小:\", df_filtered.shape)\n",
    "print(\"\\n情感分布:\")\n",
    "print(df_filtered['Sentiment'].value_counts())"
   ]
  },
  {
   "cell_type": "code",
   "execution_count": null,
   "metadata": {},
   "outputs": [],
   "source": []
  }
 ],
 "metadata": {
  "kernelspec": {
   "display_name": "da",
   "language": "python",
   "name": "python3"
  },
  "language_info": {
   "codemirror_mode": {
    "name": "ipython",
    "version": 3
   },
   "file_extension": ".py",
   "mimetype": "text/x-python",
   "name": "python",
   "nbconvert_exporter": "python",
   "pygments_lexer": "ipython3",
   "version": "3.12.8"
  }
 },
 "nbformat": 4,
 "nbformat_minor": 2
}
